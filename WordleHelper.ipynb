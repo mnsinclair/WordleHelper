{
 "cells": [
  {
   "cell_type": "code",
   "execution_count": 108,
   "id": "05c92d9f",
   "metadata": {},
   "outputs": [],
   "source": [
    "word = list(\"tests\")"
   ]
  },
  {
   "cell_type": "code",
   "execution_count": 117,
   "id": "8a0b9175",
   "metadata": {},
   "outputs": [],
   "source": [
    "from enum import Enum, auto\n",
    "class color(Enum):\n",
    "    green = auto()\n",
    "    orange = auto()\n",
    "    red = auto()"
   ]
  },
  {
   "cell_type": "code",
   "execution_count": 2,
   "id": "842d02d2",
   "metadata": {},
   "outputs": [
    {
     "name": "stdout",
     "output_type": "stream",
     "text": [
      "Requirement already satisfied: english-words in /opt/anaconda3/lib/python3.8/site-packages (1.1.0)\n",
      "\u001b[33mWARNING: You are using pip version 21.3.1; however, version 22.0.3 is available.\n",
      "You should consider upgrading via the '/opt/anaconda3/bin/python -m pip install --upgrade pip' command.\u001b[0m\n"
     ]
    }
   ],
   "source": [
    "!pip install english-words"
   ]
  },
  {
   "cell_type": "code",
   "execution_count": 109,
   "id": "3f53b363",
   "metadata": {},
   "outputs": [],
   "source": [
    "from english_words import english_words_lower_alpha_set"
   ]
  },
  {
   "cell_type": "code",
   "execution_count": 44,
   "id": "54a6b818",
   "metadata": {},
   "outputs": [],
   "source": [
    "wordle_words = {word for word in english_words_lower_alpha_set if len(word) == 5}"
   ]
  },
  {
   "cell_type": "code",
   "execution_count": 5,
   "id": "a19279a1",
   "metadata": {},
   "outputs": [],
   "source": [
    "import pandas as pd"
   ]
  },
  {
   "cell_type": "code",
   "execution_count": 6,
   "id": "bfa5c279",
   "metadata": {},
   "outputs": [
    {
     "data": {
      "text/html": [
       "<div>\n",
       "<style scoped>\n",
       "    .dataframe tbody tr th:only-of-type {\n",
       "        vertical-align: middle;\n",
       "    }\n",
       "\n",
       "    .dataframe tbody tr th {\n",
       "        vertical-align: top;\n",
       "    }\n",
       "\n",
       "    .dataframe thead th {\n",
       "        text-align: right;\n",
       "    }\n",
       "</style>\n",
       "<table border=\"1\" class=\"dataframe\">\n",
       "  <thead>\n",
       "    <tr style=\"text-align: right;\">\n",
       "      <th></th>\n",
       "      <th>Letter</th>\n",
       "      <th>Percentage</th>\n",
       "    </tr>\n",
       "  </thead>\n",
       "  <tbody>\n",
       "    <tr>\n",
       "      <th>0</th>\n",
       "      <td>E</td>\n",
       "      <td>11.16%</td>\n",
       "    </tr>\n",
       "    <tr>\n",
       "      <th>1</th>\n",
       "      <td>A</td>\n",
       "      <td>8.50%</td>\n",
       "    </tr>\n",
       "    <tr>\n",
       "      <th>2</th>\n",
       "      <td>R</td>\n",
       "      <td>7.58%</td>\n",
       "    </tr>\n",
       "    <tr>\n",
       "      <th>3</th>\n",
       "      <td>I</td>\n",
       "      <td>7.54%</td>\n",
       "    </tr>\n",
       "    <tr>\n",
       "      <th>4</th>\n",
       "      <td>O</td>\n",
       "      <td>7.16%</td>\n",
       "    </tr>\n",
       "  </tbody>\n",
       "</table>\n",
       "</div>"
      ],
      "text/plain": [
       "  Letter Percentage\n",
       "0      E     11.16%\n",
       "1      A      8.50%\n",
       "2      R      7.58%\n",
       "3      I      7.54%\n",
       "4      O      7.16%"
      ]
     },
     "execution_count": 6,
     "metadata": {},
     "output_type": "execute_result"
    }
   ],
   "source": [
    "freq = pd.read_csv('letter_frequency.csv')\n",
    "freq.head()"
   ]
  },
  {
   "cell_type": "code",
   "execution_count": 7,
   "id": "f9d87467",
   "metadata": {},
   "outputs": [],
   "source": [
    "import numpy as np"
   ]
  },
  {
   "cell_type": "code",
   "execution_count": 8,
   "id": "ad6a9c5f",
   "metadata": {},
   "outputs": [],
   "source": [
    "freq.Percentage = pd.Series([float(val.strip(\"%\")) for val in freq.Percentage])"
   ]
  },
  {
   "cell_type": "code",
   "execution_count": 9,
   "id": "38df3f85",
   "metadata": {},
   "outputs": [],
   "source": [
    "freq_dict = dict()\n",
    "for _, (letter, percentage) in freq.iterrows():\n",
    "    freq_dict[letter.lower()] = percentage"
   ]
  },
  {
   "cell_type": "markdown",
   "id": "7965d418",
   "metadata": {},
   "source": [
    "https://www.lexico.com/explore/which-letters-are-used-most"
   ]
  },
  {
   "cell_type": "code",
   "execution_count": 150,
   "id": "a02df182",
   "metadata": {},
   "outputs": [],
   "source": [
    "def get_word_scores(word_set, freq_dict):\n",
    "    # Python dictionaries preserve insertion order.\n",
    "    # By sorting score-word pairs, then inserting them in score order, the resulting dictionary will be sorted.\n",
    "    # This allows for O(1) time insertion / deletion of the python dictionary whilst maintaining score order.\n",
    "    \n",
    "    # Create the score-word pairs\n",
    "    score_word_pairs = list()\n",
    "    for word in word_set:\n",
    "        word_score = 0\n",
    "        used_chars = set()\n",
    "        for char in word:\n",
    "            # A character should only contribute to a word score if:\n",
    "            #    - The character has a score in the freq_dict\n",
    "            # AND\n",
    "            #    - The character has not been seen before\n",
    "            if char in freq_dict and char not in used_chars: # Only count the characters that are in the frequency dict\n",
    "                word_score += freq_dict[char]\n",
    "                used_chars.add(char)\n",
    "        score_word_pairs.append((word_score, word))\n",
    "    \n",
    "    # Add the pairs to the dictionary in descending score order.\n",
    "    word_scores = {word : round(score,2) for score, word in sorted(score_word_pairs, reverse = True)}\n",
    "        \n",
    "    return word_scores"
   ]
  },
  {
   "cell_type": "code",
   "execution_count": 173,
   "id": "e67184d5",
   "metadata": {},
   "outputs": [],
   "source": [
    "def prune_word_scores(letter, pos, color, word_scores):  \n",
    "    to_remove = set()\n",
    "    for word in word_scores:\n",
    "        if color == color.red:\n",
    "            if letter in word:\n",
    "                to_remove.add(word)\n",
    "        elif color == color.orange:\n",
    "            if letter == word[pos]:\n",
    "                to_remove.add(word)\n",
    "        else: # color is green\n",
    "            if letter != word[pos]:\n",
    "                to_remove.add(word)\n",
    "        \n",
    "    for word in to_remove:\n",
    "        del word_scores[word]"
   ]
  },
  {
   "cell_type": "code",
   "execution_count": 174,
   "id": "2ed05769",
   "metadata": {},
   "outputs": [],
   "source": [
    "def make_guess(guess_word, target_word):\n",
    "    result = []\n",
    "    for (guess_char, target_char) in zip(guess_word.lower(), target_word.lower()):\n",
    "        if guess_char == target_char:\n",
    "            result.append(color.green)\n",
    "        elif guess_char in target_word:\n",
    "            result.append(color.orange)\n",
    "        else:\n",
    "            result.append(color.red)\n",
    "    return result    "
   ]
  },
  {
   "cell_type": "code",
   "execution_count": 175,
   "id": "f0eed75b",
   "metadata": {},
   "outputs": [],
   "source": [
    "def get_next_guess(word_scores):\n",
    "    return next(iter(word_scores))"
   ]
  },
  {
   "cell_type": "code",
   "execution_count": 176,
   "id": "ae4ff419",
   "metadata": {},
   "outputs": [],
   "source": [
    "word_scores = get_word_scores(wordle_words, freq_dict)"
   ]
  },
  {
   "cell_type": "code",
   "execution_count": 177,
   "id": "dcad142b",
   "metadata": {},
   "outputs": [],
   "source": [
    "#target_word = np.random.choice(list(word_scores.keys()))"
   ]
  },
  {
   "cell_type": "code",
   "execution_count": 169,
   "id": "42088f5f",
   "metadata": {},
   "outputs": [
    {
     "name": "stdout",
     "output_type": "stream",
     "text": [
      "yeet\n",
      "yeet\n",
      "yeet\n"
     ]
    }
   ],
   "source": [
    "word_found = False\n",
    "\n",
    "while not word_found:\n",
    "    guess_word = get_next_guess(word_scores)\n",
    "    guess_result = make_guess(guess_word, target_word)\n",
    "    for i, color in enumerate(guess_result):\n",
    "        prune_word_scores(remove_word_with_letter(guess_word[i], pos = i, color, pos = None)\n",
    "        elif color == color.orange:\n",
    "            remove_word_with_letter(guess_word[i], word_scores, pos = i)\n",
    "        else: # color is red\n",
    "            remove_word_with_letter(guess_word[i],)\n",
    "    break\n",
    "    "
   ]
  },
  {
   "cell_type": "code",
   "execution_count": null,
   "id": "3d45264e",
   "metadata": {},
   "outputs": [],
   "source": []
  }
 ],
 "metadata": {
  "kernelspec": {
   "display_name": "Python 3",
   "language": "python",
   "name": "python3"
  },
  "language_info": {
   "codemirror_mode": {
    "name": "ipython",
    "version": 3
   },
   "file_extension": ".py",
   "mimetype": "text/x-python",
   "name": "python",
   "nbconvert_exporter": "python",
   "pygments_lexer": "ipython3",
   "version": "3.8.8"
  }
 },
 "nbformat": 4,
 "nbformat_minor": 5
}
