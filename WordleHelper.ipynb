{
 "cells": [
  {
   "cell_type": "code",
   "execution_count": 1,
   "id": "842d02d2",
   "metadata": {},
   "outputs": [
    {
     "name": "stdout",
     "output_type": "stream",
     "text": [
      "Requirement already satisfied: english-words in c:\\users\\mnsin\\anaconda3\\lib\\site-packages (1.1.0)\n"
     ]
    }
   ],
   "source": [
    "!pip install english-words\n",
    "\n",
    "from enum import Enum, auto\n",
    "\n",
    "import numpy as np\n",
    "import pandas as pd\n",
    "\n",
    "from english_words import english_words_lower_alpha_set"
   ]
  },
  {
   "cell_type": "code",
   "execution_count": 2,
   "id": "c964af19",
   "metadata": {},
   "outputs": [],
   "source": [
    "class color(Enum):\n",
    "    red = auto()\n",
    "    orange = auto()\n",
    "    green = auto()"
   ]
  },
  {
   "cell_type": "code",
   "execution_count": 3,
   "id": "a02df182",
   "metadata": {},
   "outputs": [],
   "source": [
    "def get_word_scores(word_set: set, char_scores: dict) -> dict:\n",
    "    \"\"\"This function creates a dictionary with english words as keys numeric 'word scores' as values.\n",
    "    \n",
    "    This score is derived from how 'common' the comprising chars of the word are, and discourages repeating chars.\n",
    "    The word with the  highest score will be used as the next guess in the game.\n",
    "    \n",
    "    Python dictionaries preserve the order by which key-value pairs are inserted.\n",
    "    An iterable of (word, score) pairs is created, which is then inserted into the dictionary in decreasing score order.\n",
    "    This means we have the best of both worlds with the data strtucture:\n",
    "    \n",
    "        - A sorted collection, which means we can easily select the word with the best score to be our guess each round\n",
    "        - A hash-map structure with constant-time deletion of key-value pairs \n",
    "          (this happens VERY frequently as we eliminate words).\n",
    "    \n",
    "    Args:\n",
    "        - word_set: a set of the english words to be scored\n",
    "        - char_scores: a dictionary with alphabetical characters as keys, and corresponding 'character scores' as values.\n",
    "        \n",
    "    Returns:\n",
    "        - word_scores: a dictionary with english words as keys numeric 'word scores' as values, \n",
    "                       inserted in order of descending score value.   \n",
    "    \"\"\"\n",
    "    \n",
    "    score_word_pairs = list()\n",
    "    \n",
    "    for word in word_set:    \n",
    "        score = 0\n",
    "        used_chars = set()\n",
    "        \n",
    "        for char in word:\n",
    "            # A character should only contribute to a word score if:\n",
    "                #  The character has a score in char_scores\n",
    "                #  AND\n",
    "                #  The character has not been used in this word before (we don't want to encourage repeating chars)\n",
    "                \n",
    "            if char in char_scores and char not in used_chars:\n",
    "                score += char_scores[char]\n",
    "                used_chars.add(char)\n",
    "                \n",
    "        score_word_pairs.append((word, score))\n",
    "    \n",
    "    # Generate a diction with word : score pairs added in descending score order.\n",
    "    word_scores = {word : round(score,2) for word, score in sorted(score_word_pairs, key = lambda x: x[1], reverse = True)}\n",
    "        \n",
    "    return word_scores"
   ]
  },
  {
   "cell_type": "code",
   "execution_count": 4,
   "id": "e67184d5",
   "metadata": {},
   "outputs": [],
   "source": [
    "def prune_word_scores(char: str, pos: int, color: color, word_scores: dict) -> None:\n",
    "    \"\"\"This function reduces the wordle search space using information about the color yielded by a char at given position\n",
    "    \n",
    "    Note this function does not have a return value - it removes key-value pairs from the word_scores collection.\n",
    "    \n",
    "    Args:\n",
    "        - char: a single character string\n",
    "        - pos: the index of char within the guess\n",
    "        - color: A color object indicating the color yielded by guessing 'char' in position 'pos' (red, orange or green)\n",
    "    \"\"\"\n",
    "    to_remove = set()\n",
    "    \n",
    "    for word in word_scores:\n",
    "        # If the color is red, the char is not in the word. \n",
    "        if color == color.red:\n",
    "            # Any word with the char should be removed.\n",
    "            if char in word:\n",
    "                to_remove.add(word)\n",
    "        # If the color is orange, the char is in the word, but not at the current position.\n",
    "        elif color == color.orange:\n",
    "            # Any word with the char in the current position should be removed. \n",
    "            if char == word[pos]:\n",
    "                to_remove.add(word)\n",
    "        # If the color is green, the char is in the correct position.\n",
    "        else: # color is green\n",
    "            # Any word with a different char in this position should be removed.\n",
    "            if char != word[pos]:\n",
    "                to_remove.add(word)\n",
    "    \n",
    "    # Remove all the words that meet the above conditions.\n",
    "    for word in to_remove:\n",
    "        del word_scores[word]"
   ]
  },
  {
   "cell_type": "code",
   "execution_count": 5,
   "id": "2ed05769",
   "metadata": {},
   "outputs": [],
   "source": [
    "def make_guess(guess_word: str, target_word: str) -> np.array:\n",
    "    \"\"\"This function compares a guess word with a target word, and returns an array of 'color' objects in the wordle style.\n",
    "    \n",
    "    Args:\n",
    "        - guess_word: 5-character guess string\n",
    "        - target_word: 5-character target string\n",
    "    \n",
    "    Returns:\n",
    "        - result: np.array of 5 'color' objects.\n",
    "    \"\"\"\n",
    "    \n",
    "    # intialise a 1D numpy array with 5 values to hold the guess result\n",
    "    result = np.empty(5, dtype = object)\n",
    "    \n",
    "    for i, (guess_char, target_char) in enumerate(zip(guess_word.lower(), target_word.lower())):\n",
    "        if guess_char == target_char: # green if chars match\n",
    "            char_color = color.green\n",
    "        elif guess_char in target_word: # orange if char is in word (but not position match)\n",
    "            char_color = color.orange\n",
    "        else:\n",
    "            char_color = color.red # red if above conditions not met.\n",
    "        \n",
    "        result[i] = char_color\n",
    "        \n",
    "    return result    "
   ]
  },
  {
   "cell_type": "code",
   "execution_count": 6,
   "id": "f0eed75b",
   "metadata": {},
   "outputs": [],
   "source": [
    "def get_next_guess(word_scores: dict) -> str:\n",
    "    \"\"\"\n",
    "    This function returns a string representing the next guess the player should make in the wordle game.\n",
    "    \n",
    "    Args:\n",
    "        - word_scores: dictionary of english word : numeric_score pairs.\n",
    "        \n",
    "    Returns:\n",
    "        - next_guess: string representing the next guess the player should make in the wordle game.\n",
    "    \"\"\"\n",
    "    \n",
    "    # Creating an iterable just to grab the first element seems wasteful, \n",
    "    # but I'm not sure how to do it any other way. Suggestions welcome!\n",
    "    \n",
    "    next_guess = next(iter(word_scores))\n",
    "    \n",
    "    return next_guess"
   ]
  },
  {
   "cell_type": "code",
   "execution_count": 7,
   "id": "e742b89d",
   "metadata": {},
   "outputs": [],
   "source": [
    "def check_target_match(guess_result: np.array) -> bool:\n",
    "    \"\"\"This function checks whether all colors within a guess result are green.\n",
    "    \n",
    "    This is useful in checking whether the word has been found.\n",
    "    \n",
    "    Args: \n",
    "        - guess_result: a np.array object with the result of a guess.\n",
    "    Returns:\n",
    "        - is_match: a boolean value signifying whether all members of guess_result are 'green'\n",
    "    \"\"\"\n",
    "    \n",
    "    is_match = (guess_result == color.green).all()\n",
    "    \n",
    "    return is_match"
   ]
  },
  {
   "cell_type": "code",
   "execution_count": 8,
   "id": "c60c3558",
   "metadata": {},
   "outputs": [],
   "source": [
    "name = \"__main__\""
   ]
  },
  {
   "cell_type": "code",
   "execution_count": null,
   "id": "08a2011b",
   "metadata": {},
   "outputs": [],
   "source": [
    "if name == \"__main__\":\n",
    "    \n",
    "    wordle_words = {word for word in english_words_lower_alpha_set if len(word) == 5}\n",
    "    # Read in the proportion of char occurance. https://www.lexico.com/explore/which-letters-are-used-most\n",
    "    freq = pd.read_csv('letter_frequency.csv')\n",
    "\n",
    "    # Strip the percentage sign from the \"Percentage\" column, and cast to floating point number.\n",
    "    freq.Percentage = pd.Series([float(val.strip(\"%\")) for val in freq.Percentage])\n",
    "\n",
    "    # Convert the pandas dataframe into a frequency dictionary. Keys are the chars, values are the proportions.\n",
    "    char_scores = dict()\n",
    "    for _, (char, percentage) in freq.iterrows():\n",
    "        char_scores[char.lower()] = percentage\n",
    "        \n",
    "    word_scores = get_word_scores(wordle_words, char_scores)\n",
    "    \n",
    "    while True:\n",
    "        # Get next 'best guess'\n",
    "        guess_word = get_next_guess(word_scores)\n",
    "\n",
    "        print(\"Best next guess is:\", guess_word.upper())\n",
    "\n",
    "        guess_result = np.zeros(5, dtype = object)\n",
    "        for i in range(5):\n",
    "            color_input = None\n",
    "            while color_input not in {\"r\", \"o\", \"g\"}:\n",
    "                color_input = input(f\"\\'{guess_word[i].upper()}\\' in position {i + 1} was (r)ed, (o)range, (g)reen:    \")\n",
    "            if color_input == \"r\":\n",
    "                guess_result[i] = color.red\n",
    "            elif color_input == \"o\":\n",
    "                guess_result[i] = color.orange\n",
    "            else:\n",
    "                guess_result[i] = color.green\n",
    "\n",
    "        # Make the guess, and get the resulting colors \n",
    "\n",
    "\n",
    "        # Check if the guess is a full match (all green)\n",
    "        if check_target_match(guess_result):    \n",
    "            final_word = guess_word\n",
    "            break\n",
    "        else:\n",
    "            for i, (color, guess_char) in enumerate(zip(guess_result, guess_word)):\n",
    "                prune_word_scores(char = guess_char, pos = i, color = color, word_scores = word_scores)"
   ]
  },
  {
   "cell_type": "code",
   "execution_count": 10,
   "id": "cbc072db",
   "metadata": {},
   "outputs": [
    {
     "data": {
      "text/plain": [
       "'rangy'"
      ]
     },
     "execution_count": 10,
     "metadata": {},
     "output_type": "execute_result"
    }
   ],
   "source": [
    "target_word = np.random.choice(list(word_scores.keys()))\n",
    "target_word"
   ]
  },
  {
   "cell_type": "code",
   "execution_count": 11,
   "id": "03f25135",
   "metadata": {},
   "outputs": [
    {
     "name": "stdout",
     "output_type": "stream",
     "text": [
      "irate\n",
      "sonar\n",
      "ranch\n",
      "randy\n",
      "rangy\n"
     ]
    }
   ],
   "source": [
    "while True:\n",
    "    # Get next 'best guess'\n",
    "    guess_word = get_next_guess(word_scores)\n",
    "    print(guess_word)\n",
    "    # Make the guess, and get the resulting colors \n",
    "    guess_result = make_guess(guess_word, target_word)\n",
    "    \n",
    "    # Check if the guess is a full match (all green)\n",
    "    if check_target_match(guess_result):    \n",
    "        final_word = guess_word\n",
    "        break\n",
    "    else:\n",
    "        for i, (color, guess_char) in enumerate(zip(guess_result, guess_word)):\n",
    "            prune_word_scores(char = guess_char, pos = i, color = color, word_scores = word_scores)"
   ]
  }
 ],
 "metadata": {
  "kernelspec": {
   "display_name": "Python 3 (ipykernel)",
   "language": "python",
   "name": "python3"
  },
  "language_info": {
   "codemirror_mode": {
    "name": "ipython",
    "version": 3
   },
   "file_extension": ".py",
   "mimetype": "text/x-python",
   "name": "python",
   "nbconvert_exporter": "python",
   "pygments_lexer": "ipython3",
   "version": "3.9.7"
  }
 },
 "nbformat": 4,
 "nbformat_minor": 5
}
