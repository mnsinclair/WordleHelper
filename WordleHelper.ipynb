{
 "cells": [
  {
   "cell_type": "code",
   "execution_count": 1,
   "id": "2cc3dc5c",
   "metadata": {},
   "outputs": [
    {
     "name": "stdout",
     "output_type": "stream",
     "text": [
      "Requirement already satisfied: english-words in c:\\users\\mnsin\\anaconda3\\lib\\site-packages (1.1.0)\n"
     ]
    }
   ],
   "source": [
    "!pip install english-words"
   ]
  },
  {
   "cell_type": "code",
   "execution_count": 2,
   "id": "842d02d2",
   "metadata": {},
   "outputs": [],
   "source": [
    "from enum import Enum, auto\n",
    "\n",
    "import numpy as np\n",
    "import pandas as pd\n",
    "\n",
    "from english_words import english_words_lower_alpha_set\n",
    "\n",
    "class color(Enum):\n",
    "    green = auto()\n",
    "    orange = auto()\n",
    "    red = auto()"
   ]
  },
  {
   "cell_type": "code",
   "execution_count": 28,
   "id": "a02df182",
   "metadata": {},
   "outputs": [],
   "source": [
    "def get_word_scores(word_set, freq_dict):\n",
    "    \"\"\"This function creates a dictionary with english words as keys numeric 'word scores' as values.\n",
    "    \n",
    "    Python dictionaries preserve the order by which key-value pairs are inserted. \\\n",
    "    By first creating the (word, score) pairs as an iterable, we can sort them by descending score order.\n",
    "    Following this, we can preserve this order when inserting them into the dictionary.\n",
    "    This means we have the best of both worlds:\n",
    "    \n",
    "    A sorted collection, which means we can easily select the word with the best score to be our guess each round\n",
    "    \n",
    "    A hash-map structure with constant-time deletion of key-value pairs (which will be happening VERY frequently as we rule out impossible words).\n",
    "    \n",
    "    Args:\n",
    "        - word_set: a set of the english words to be scored\n",
    "        - freq_dict: a dictionary of the value associated with each alphabetical character.\n",
    "        \n",
    "    Returns:\n",
    "        - word_scores: a dictionary with english words as keys numeric 'word scores' as values, inserting in order of descending point-value.   \n",
    "    \"\"\"\n",
    "    \n",
    "    # Create the score-word pairs\n",
    "    score_word_pairs = list()\n",
    "    for word in word_set:\n",
    "        word_score = 0\n",
    "        used_chars = set()\n",
    "        for char in word:\n",
    "            # A character should only contribute to a word score if:\n",
    "                #  The character has a score in the freq_dict\n",
    "                #  AND\n",
    "                #  The character has not been used in this word before (we don't want to encourage repeating letters)\n",
    "            if char in freq_dict and char not in used_chars: # Only count the characters that are in the frequency dict\n",
    "                word_score += freq_dict[char]\n",
    "                used_chars.add(char)\n",
    "        score_word_pairs.append((word_score, word))\n",
    "    \n",
    "    # Add the pairs to the dictionary in descending score order.\n",
    "    word_scores = {word : round(score,2) for score, word in sorted(score_word_pairs, reverse = True)}\n",
    "        \n",
    "    return word_scores"
   ]
  },
  {
   "cell_type": "code",
   "execution_count": 29,
   "id": "e67184d5",
   "metadata": {},
   "outputs": [],
   "source": [
    "def prune_word_scores(char, pos, color, word_scores):  \n",
    "    to_remove = set()\n",
    "    \n",
    "    for word in word_scores:\n",
    "        # If the color is red, the char is not in the word. \n",
    "        if color == color.red:\n",
    "            # Any word with the char should be removed.\n",
    "            if char in word:\n",
    "                to_remove.add(word)\n",
    "        # If the color is orange, the char is in the word, but not at the current position.\n",
    "        elif color == color.orange:\n",
    "            # Any word with the char in the current position should be removed. \n",
    "            if char == word[pos]:\n",
    "                to_remove.add(word)\n",
    "        # If the color is green, the char is in the correct position.\n",
    "        else: # color is green\n",
    "            # Any word with a different char in this position should be removed.\n",
    "            if char != word[pos]:\n",
    "                to_remove.add(word)\n",
    "    # Remove all the words that meet the above conditions.\n",
    "    for word in to_remove:\n",
    "        del word_scores[word]"
   ]
  },
  {
   "cell_type": "code",
   "execution_count": 30,
   "id": "2ed05769",
   "metadata": {},
   "outputs": [],
   "source": [
    "def make_guess(guess_word, target_word):\n",
    "    \n",
    "    # intialise a 1D numpy array with 5 values to hold the guess result\n",
    "    result = np.empty(5, dtype = object)\n",
    "    \n",
    "    for i, (guess_char, target_char) in enumerate(zip(guess_word.lower(), target_word.lower())):\n",
    "        if guess_char == target_char: # green if chars match\n",
    "            char_color = color.green\n",
    "        elif guess_char in target_word: # orange if char is in word (but not position match)\n",
    "            char_color = color.orange\n",
    "        else:\n",
    "            char_color = color.red # red if above conditions not met.\n",
    "        \n",
    "        result[i] = char_color\n",
    "        \n",
    "    return result    "
   ]
  },
  {
   "cell_type": "code",
   "execution_count": 31,
   "id": "f0eed75b",
   "metadata": {},
   "outputs": [],
   "source": [
    "def get_next_guess(word_scores):\n",
    "    # creating an iterable just to grab the first element seems wasteful, \n",
    "    # but I'm not sure how to do it any other way. Suggestions welcome!\n",
    "    return next(iter(word_scores))"
   ]
  },
  {
   "cell_type": "code",
   "execution_count": 32,
   "id": "15098c51",
   "metadata": {},
   "outputs": [],
   "source": [
    "def check_target_match(guess_result):\n",
    "    return (np.array(guess_result) == color.green).all()"
   ]
  },
  {
   "cell_type": "code",
   "execution_count": 33,
   "id": "6aae673b",
   "metadata": {},
   "outputs": [],
   "source": [
    "wordle_words = {word for word in english_words_lower_alpha_set if len(word) == 5}\n",
    "# Read in the proportion of letter occurance. https://www.lexico.com/explore/which-letters-are-used-most\n",
    "freq = pd.read_csv('letter_frequency.csv')\n",
    "\n",
    "# Strip the percentage sign from the \"Percentage\" column, and cast to floating point number.\n",
    "freq.Percentage = pd.Series([float(val.strip(\"%\")) for val in freq.Percentage])\n",
    "\n",
    "# Convert the pandas dataframe into a frequency dictionary. Keys are the letters, values are the proportions.\n",
    "freq_dict = dict()\n",
    "for _, (letter, percentage) in freq.iterrows():\n",
    "    freq_dict[letter.lower()] = percentage"
   ]
  },
  {
   "cell_type": "code",
   "execution_count": 34,
   "id": "ae4ff419",
   "metadata": {},
   "outputs": [],
   "source": [
    "word_scores = get_word_scores(wordle_words, freq_dict)"
   ]
  },
  {
   "cell_type": "code",
   "execution_count": 35,
   "id": "dcad142b",
   "metadata": {},
   "outputs": [],
   "source": [
    "target_word = np.random.choice(list(word_scores.keys()))"
   ]
  },
  {
   "cell_type": "code",
   "execution_count": 36,
   "id": "136f19da",
   "metadata": {},
   "outputs": [
    {
     "data": {
      "text/plain": [
       "'avail'"
      ]
     },
     "execution_count": 36,
     "metadata": {},
     "output_type": "execute_result"
    }
   ],
   "source": [
    "target_word"
   ]
  },
  {
   "cell_type": "code",
   "execution_count": 26,
   "id": "fb27164d",
   "metadata": {},
   "outputs": [
    {
     "name": "stdout",
     "output_type": "stream",
     "text": [
      "Best next guess is: IRATE\n",
      "r = red\n",
      "o = orange\n",
      "g = green\n",
      "'I' in position 1 was (r)ed, (o)range, (g)reen:    r\n",
      "'R' in position 2 was (r)ed, (o)range, (g)reen:    r\n",
      "'A' in position 3 was (r)ed, (o)range, (g)reen:    o\n",
      "'T' in position 4 was (r)ed, (o)range, (g)reen:    r\n",
      "'E' in position 5 was (r)ed, (o)range, (g)reen:    r\n",
      "Best next guess is: SLOAN\n",
      "r = red\n",
      "o = orange\n",
      "g = green\n",
      "'S' in position 1 was (r)ed, (o)range, (g)reen:    r\n",
      "'L' in position 2 was (r)ed, (o)range, (g)reen:    o\n",
      "'O' in position 3 was (r)ed, (o)range, (g)reen:    r\n",
      "'A' in position 4 was (r)ed, (o)range, (g)reen:    o\n",
      "'N' in position 5 was (r)ed, (o)range, (g)reen:    r\n",
      "Best next guess is: CULPA\n",
      "r = red\n",
      "o = orange\n",
      "g = green\n",
      "'C' in position 1 was (r)ed, (o)range, (g)reen:    r\n",
      "'U' in position 2 was (r)ed, (o)range, (g)reen:    o\n",
      "'L' in position 3 was (r)ed, (o)range, (g)reen:    o\n",
      "'P' in position 4 was (r)ed, (o)range, (g)reen:    r\n",
      "'A' in position 5 was (r)ed, (o)range, (g)reen:    o\n",
      "Best next guess is: LAUGH\n",
      "r = red\n",
      "o = orange\n",
      "g = green\n",
      "'L' in position 1 was (r)ed, (o)range, (g)reen:    o\n",
      "'A' in position 2 was (r)ed, (o)range, (g)reen:    g\n",
      "'U' in position 3 was (r)ed, (o)range, (g)reen:    o\n",
      "'G' in position 4 was (r)ed, (o)range, (g)reen:    r\n",
      "'H' in position 5 was (r)ed, (o)range, (g)reen:    r\n",
      "Best next guess is: KABUL\n",
      "r = red\n",
      "o = orange\n",
      "g = green\n",
      "'K' in position 1 was (r)ed, (o)range, (g)reen:    g\n",
      "'A' in position 2 was (r)ed, (o)range, (g)reen:    g\n",
      "'B' in position 3 was (r)ed, (o)range, (g)reen:    g\n",
      "'U' in position 4 was (r)ed, (o)range, (g)reen:    g\n",
      "'L' in position 5 was (r)ed, (o)range, (g)reen:    g\n"
     ]
    }
   ],
   "source": [
    "while True:\n",
    "    # Get next 'best guess'\n",
    "    guess_word = get_next_guess(word_scores)\n",
    "    \n",
    "    print(\"Best next guess is:\", guess_word.upper())\n",
    "    \n",
    "    \n",
    "    print(\"r = red\", \"o = orange\", \"g = green\", sep = \"\\n\")\n",
    "    \n",
    "    guess_result = np.zeros(5, dtype = object)\n",
    "    for i in range(5):\n",
    "        color_input = None\n",
    "        while color_input not in {\"r\", \"o\", \"g\"}:\n",
    "            color_input = input(f\"\\'{guess_word[i].upper()}\\' in position {i + 1} was (r)ed, (o)range, (g)reen:    \")\n",
    "        if color_input == \"r\":\n",
    "            guess_result[i] = color.red\n",
    "        elif color_input == \"o\":\n",
    "            guess_result[i] = color.orange\n",
    "        else:\n",
    "            guess_result[i] = color.green\n",
    "        \n",
    "    # Make the guess, and get the resulting colors \n",
    "    \n",
    "    \n",
    "    # Check if the guess is a full match (all green)\n",
    "    if check_target_match(guess_result):    \n",
    "        final_word = guess_word\n",
    "        break\n",
    "    else:\n",
    "        for i, (color, guess_char) in enumerate(zip(guess_result, guess_word)):\n",
    "            prune_word_scores(char = guess_char, pos = i, color = color, word_scores = word_scores)"
   ]
  },
  {
   "cell_type": "code",
   "execution_count": null,
   "id": "78f6c719",
   "metadata": {},
   "outputs": [],
   "source": [
    "while True:\n",
    "    # Get next 'best guess'\n",
    "    guess_word = get_next_guess(word_scores)\n",
    "    print(guess_word)\n",
    "    # Make the guess, and get the resulting colors \n",
    "    guess_result = make_guess(guess_word, target_word)\n",
    "    \n",
    "    # Check if the guess is a full match (all green)\n",
    "    if check_target_match(guess_result):    \n",
    "        final_word = guess_word\n",
    "        break\n",
    "    else:\n",
    "        for i, (color, guess_char) in enumerate(zip(guess_result, guess_word)):\n",
    "            prune_word_scores(char = guess_char, pos = i, color = color, word_scores = word_scores)"
   ]
  }
 ],
 "metadata": {
  "kernelspec": {
   "display_name": "Python 3 (ipykernel)",
   "language": "python",
   "name": "python3"
  },
  "language_info": {
   "codemirror_mode": {
    "name": "ipython",
    "version": 3
   },
   "file_extension": ".py",
   "mimetype": "text/x-python",
   "name": "python",
   "nbconvert_exporter": "python",
   "pygments_lexer": "ipython3",
   "version": "3.9.7"
  }
 },
 "nbformat": 4,
 "nbformat_minor": 5
}
